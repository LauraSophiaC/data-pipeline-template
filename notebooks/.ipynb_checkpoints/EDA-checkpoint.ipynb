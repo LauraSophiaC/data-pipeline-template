{
 "cells": [
  {
   "cell_type": "code",
   "execution_count": null,
   "id": "3c02503c-276e-46d6-b372-e1f4a275c925",
   "metadata": {},
   "outputs": [],
   "source": [
    "import pandas as pd\n",
    "from ydata_profiling import ProfileReport\n",
    "\n",
    "df = pd.read_csv(\"../data/raw/tu_archivo.csv\")\n",
    "profile = ProfileReport(df, title=\"EDA Report\", explorative=True)\n",
    "profile.to_file(\"../data/outputs/eda_report.html\")\n"
   ]
  }
 ],
 "metadata": {
  "kernelspec": {
   "display_name": "Python 3 (ipykernel)",
   "language": "python",
   "name": "python3"
  },
  "language_info": {
   "codemirror_mode": {
    "name": "ipython",
    "version": 3
   },
   "file_extension": ".py",
   "mimetype": "text/x-python",
   "name": "python",
   "nbconvert_exporter": "python",
   "pygments_lexer": "ipython3",
   "version": "3.11.5"
  }
 },
 "nbformat": 4,
 "nbformat_minor": 5
}
